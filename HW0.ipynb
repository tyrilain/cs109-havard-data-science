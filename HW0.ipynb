{
 "metadata": {
  "name": ""
 },
 "nbformat": 3,
 "nbformat_minor": 0,
 "worksheets": [
  {
   "cells": [
    {
     "cell_type": "markdown",
     "metadata": {},
     "source": [
      "# Homework 0\n",
      "\n",
      "### Due Tuesday, September 10 (but no submission is required)\n",
      "\n",
      "---\n",
      "\n",
      "Welcome to CS109 / STAT121 / AC209 / E-109 (http://cs109.org/).  In this class, we will be using a variety of tools that will require some initial configuration. To ensure everything goes smoothly moving forward, we will setup the majority of those tools in this homework. While some of this will likely be dull, doing it now will enable us to do more exciting work in the weeks that follow without getting bogged down in further software configuration. This homework will not be graded, however it is essential that you complete it timely since it will enable us to set up your accounts. You do not have to hand anything in, with the exception of filling out the online survey. \n",
      "\n",
      "## Class Survey, Piazza, and Introduction\n",
      "\n",
      "**Class Survey**\n",
      "\n",
      "Please complete the mandatory course survey located [here](https://docs.google.com/spreadsheet/viewform?formkey=dFg1ZFJwLWJ6ZWhWR1JJb0tES3lGMEE6MA#gid=0). It should only take a few moments of your time. Once you fill in the survey we will sign you up to the course forum on Piazza and the dropbox system that you will use to hand in the homework. It is imperative that you fill out the survey on time as we use the provided information to sign you up for these services. \n",
      "\n",
      "**Piazza**\n",
      "\n",
      "Go to [Piazza](https://piazza.com/harvard/fall2013/cs109/home) and sign up for the class using your Harvard e-mail address. \n",
      "\n",
      "You will use Piazza as a forum for discussion, to find team members, to arrange appointments, and to ask questions. Piazza should be your primary form of communication with the staff. Use the staff e-mail (staff@cs109.org) only for individual requests, e.g., to excuse yourself from a mandatory guest lecture. All readings, homeworks, and project descriptions will be announced on Piazza first. \n",
      "\n",
      "**Introduction**\n",
      "\n",
      "Once you are signed up to the Piazza course forum, introduce yourself to your classmates and course staff with a follow-up post in the introduction thread. Include your name/nickname, your affiliation, why you are taking this course, and tell us something interesting about yourself (e.g., an industry job, an unusual hobby, past travels, or a cool project you did, etc.). Also tell us whether you have experience with data science. \n",
      "\n",
      "## Programming expectations\n",
      "\n",
      "All the assignments and labs for this class will use Python and, for the most part, the browser-based IPython notebook format you are currently viewing. Knowledge of Python is not a prerequisite for this course, **provided you are comfortable learning on your own as needed**. While we have strived to make the programming component of this course straightforward, we will not devote much time to teaching prorgramming or Python syntax. Basically, you should feel comfortable with:\n",
      "\n",
      "* How to look up Python syntax on Google and StackOverflow.\n",
      "* Basic programming concepts like functions, loops, arrays, dictionaries, strings, and if statements.\n",
      "* How to learn new libraries by reading documentation.\n",
      "* Asking questions on StackOverflow or Piazza.\n",
      "\n",
      "There are many online tutorials to introduce you to scientific python programming. [Here is one](https://github.com/jrjohansson/scientific-python-lectures) that is very nice. Lectures 1-4 are most relevant to this class.\n",
      "\n",
      "## Getting Python\n",
      "\n",
      "You will be using Python throughout the course, including many popular 3rd party Python libraries for scientific computing. [Anaconda](http://continuum.io/downloads) is an easy-to-install bundle of Python and most of these libraries. We recommend that you use Anaconda for this course.\n",
      "\n",
      "Please visit [this page](https://github.com/cs109/content/wiki/Installing-Python) and follow the instructions to set up Python\n",
      "\n",
      "<hline>\n",
      "\n",
      "## Hello, Python\n",
      "\n",
      "The IPython notebook is an application to build interactive computational notebooks. You'll be using them to complete labs and homework. Once you've set up Python, please <a href=https://raw.github.com/cs109/content/master/HW0.ipynb download=\"HW0.ipynb\">download this page</a>, and open it with IPython by typing\n",
      "\n",
      "```\n",
      "ipython notebook <name_of_downloaded_file>\n",
      "```\n",
      "\n",
      "For the rest of the assignment, use your local copy of this page, running on IPython.\n",
      "\n",
      "Notebooks are composed of many \"cells\", which can contain text (like this one), or code (like the one below). Double click on the cell below, and evaluate it by clicking the \"play\" button above, for by hitting shift + enter"
     ]
    },
    {
     "cell_type": "code",
     "collapsed": false,
     "input": [
      "x = [10, 20, 30, 40, 50]\n",
      "for item in x:\n",
      "    print \"Item is \", item"
     ],
     "language": "python",
     "metadata": {},
     "outputs": [
      {
       "output_type": "stream",
       "stream": "stdout",
       "text": [
        "Item is  10\n",
        "Item is  20\n",
        "Item is  30\n",
        "Item is  40\n",
        "Item is  50\n"
       ]
      }
     ],
     "prompt_number": 1
    },
    {
     "cell_type": "markdown",
     "metadata": {},
     "source": [
      "## Python Libraries\n",
      "\n",
      "We will be using a several different libraries throughout this course. If you've successfully completed the [installation instructions](https://github.com/cs109/content/wiki/Installing-Python), all of the following statements should run."
     ]
    },
    {
     "cell_type": "code",
     "collapsed": false,
     "input": [
      "#IPython is what you are using now to run the notebook\n",
      "import IPython\n",
      "print \"IPython version:      %6.6s (need at least 1.0)\" % IPython.__version__\n",
      "\n",
      "# Numpy is a library for working with Arrays\n",
      "import numpy as np\n",
      "print \"Numpy version:        %6.6s (need at least 1.7.1)\" % np.__version__\n",
      "\n",
      "# SciPy implements many different numerical algorithms\n",
      "import scipy as sp\n",
      "print \"SciPy version:        %6.6s (need at least 0.12.0)\" % sp.__version__\n",
      "\n",
      "# Pandas makes working with data tables easier\n",
      "import pandas as pd\n",
      "print \"Pandas version:       %6.6s (need at least 0.11.0)\" % pd.__version__\n",
      "\n",
      "# Module for plotting\n",
      "import matplotlib\n",
      "print \"Mapltolib version:    %6.6s (need at least 1.2.1)\" % matplotlib.__version__\n",
      "\n",
      "# SciKit Learn implements several Machine Learning algorithms\n",
      "import sklearn\n",
      "print \"Scikit-Learn version: %6.6s (need at least 0.13.1)\" % sklearn.__version__\n",
      "\n",
      "# Requests is a library for getting data from the Web\n",
      "import requests\n",
      "print \"requests version:     %6.6s (need at least 1.2.3)\" % requests.__version__\n",
      "\n",
      "# Networkx is a library for working with networks\n",
      "import networkx as nx\n",
      "print \"NetworkX version:     %6.6s (need at least 1.7)\" % nx.__version__\n",
      "\n",
      "#BeautifulSoup is a library to parse HTML and XML documents\n",
      "import BeautifulSoup\n",
      "print \"BeautifulSoup version:%6.6s (need at least 3.2)\" % BeautifulSoup.__version__\n",
      "\n",
      "#MrJob is a library to run map reduce jobs on Amazon's computers\n",
      "import mrjob\n",
      "print \"Mr Job version:       %6.6s (need at least 0.4)\" % mrjob.__version__\n",
      "\n",
      "#Pattern has lots of tools for working with data from the internet\n",
      "import pattern\n",
      "print \"Pattern version:      %6.6s (need at least 2.6)\" % pattern.__version__"
     ],
     "language": "python",
     "metadata": {},
     "outputs": [
      {
       "output_type": "stream",
       "stream": "stdout",
       "text": [
        "IPython version:       1.0.0 (need at least 1.0)\n",
        "Numpy version:         1.7.1 (need at least 1.7.1)\n",
        "SciPy version:        0.12.0 (need at least 0.12.0)"
       ]
      },
      {
       "output_type": "stream",
       "stream": "stdout",
       "text": [
        "\n",
        "Pandas version:       0.12.0 (need at least 0.11.0)"
       ]
      },
      {
       "output_type": "stream",
       "stream": "stdout",
       "text": [
        "\n",
        "Mapltolib version:     1.3.0 (need at least 1.2.1)\n",
        "Scikit-Learn version: 0.14.1 (need at least 0.13.1)"
       ]
      },
      {
       "output_type": "stream",
       "stream": "stdout",
       "text": [
        "\n",
        "requests version:      1.2.3 (need at least 1.2.3)"
       ]
      },
      {
       "output_type": "stream",
       "stream": "stdout",
       "text": [
        "\n",
        "NetworkX version:      1.8.1 (need at least 1.7)"
       ]
      },
      {
       "output_type": "stream",
       "stream": "stdout",
       "text": [
        "\n",
        "BeautifulSoup version: 3.2.1 (need at least 3.2)\n",
        "Mr Job version:          0.4 (need at least 0.4)\n",
        "Pattern version:         2.6 (need at least 2.6)\n"
       ]
      }
     ],
     "prompt_number": 2
    },
    {
     "cell_type": "markdown",
     "metadata": {},
     "source": [
      "If any of these libraries are missing or out of date, you will need to [install them](https://github.com/cs109/content/wiki/Installing-Python#installing-additional-libraries) and restart IPython"
     ]
    },
    {
     "cell_type": "markdown",
     "metadata": {},
     "source": [
      "## Hello matplotlib"
     ]
    },
    {
     "cell_type": "markdown",
     "metadata": {},
     "source": [
      "The notebook integrates nicely with Matplotlib, the primary plotting package for python. This should embed a figure of a sine wave:"
     ]
    },
    {
     "cell_type": "code",
     "collapsed": false,
     "input": [
      "#this line prepares IPython for working with matplotlib\n",
      "%matplotlib inline  \n",
      "\n",
      "# this actually imports matplotlib\n",
      "import matplotlib.pyplot as plt  \n",
      "\n",
      "x = np.linspace(0, 10, 30)  #array of 30 points from 0 to 10\n",
      "y = np.sin(x)\n",
      "z = y + np.random.normal(size=30) * .2\n",
      "plt.plot(x, y, 'ro-', label='A sine wave')\n",
      "plt.plot(x, z, 'b-', label='Noisy sine')\n",
      "plt.legend(loc = 'lower right')\n",
      "plt.xlabel(\"X axis\")\n",
      "plt.ylabel(\"Y axis\")           "
     ],
     "language": "python",
     "metadata": {},
     "outputs": [
      {
       "metadata": {},
       "output_type": "pyout",
       "prompt_number": 3,
       "text": [
        "<matplotlib.text.Text at 0x106a81090>"
       ]
      },
      {
       "metadata": {},
       "output_type": "display_data",
       "png": "[encoded data removed]",
       "text": [
        "<matplotlib.figure.Figure at 0x1023dc890>"
       ]
      }
     ],
     "prompt_number": 3
    },
    {
     "cell_type": "markdown",
     "metadata": {},
     "source": [
      "If that last cell complained about the `%matplotlib` line, you need to update IPython to v1.0, and restart the notebook. See the [installation page](https://github.com/cs109/content/wiki/Installing-Python)"
     ]
    },
    {
     "cell_type": "markdown",
     "metadata": {},
     "source": [
      "## Hello Numpy\n",
      "\n",
      "The Numpy array processing library is the basis of nearly all numerical computing in Python. Here's a 30 second crash course. For more details, consult Chapter 4 of Python for Data Analysis, or the [Numpy User's Guide](http://docs.scipy.org/doc/numpy-dev/user/index.html)"
     ]
    },
    {
     "cell_type": "code",
     "collapsed": false,
     "input": [
      "print \"Make a 3 row x 4 column array of random numbers\"\n",
      "x = np.random.random((3, 4))\n",
      "print x\n",
      "print\n",
      "\n",
      "print \"Add 1 to every element\"\n",
      "x = x + 1\n",
      "print x\n",
      "print\n",
      "\n",
      "print \"Get the element at row 1, column 2\"\n",
      "print x[1, 2]\n",
      "print\n",
      "\n",
      "# The colon syntax is called \"slicing\" the array. \n",
      "print \"Get the first row\"\n",
      "print x[0, :]\n",
      "print\n",
      "\n",
      "print \"Get every 2nd column of the first row\"\n",
      "print x[0, ::2]\n",
      "print"
     ],
     "language": "python",
     "metadata": {},
     "outputs": [
      {
       "output_type": "stream",
       "stream": "stdout",
       "text": [
        "Make a 3 row x 4 column array of random numbers\n",
        "[[ 0.52254537  0.31635318  0.04685023  0.58194735]\n",
        " [ 0.92667409  0.93592371  0.9987552   0.40515165]\n",
        " [ 0.06739065  0.96257721  0.27029095  0.81799839]]\n",
        "\n",
        "Add 1 to every element\n",
        "[[ 1.52254537  1.31635318  1.04685023  1.58194735]\n",
        " [ 1.92667409  1.93592371  1.9987552   1.40515165]\n",
        " [ 1.06739065  1.96257721  1.27029095  1.81799839]]\n",
        "\n",
        "Get the element at row 1, column 2\n",
        "1.99875519616\n",
        "\n",
        "Get the first row\n",
        "[ 1.52254537  1.31635318  1.04685023  1.58194735]\n",
        "\n",
        "Get every 2nd column of the first row\n",
        "[ 1.52254537  1.04685023]\n",
        "\n"
       ]
      }
     ],
     "prompt_number": 4
    },
    {
     "cell_type": "markdown",
     "metadata": {},
     "source": [
      "Print the maximum, minimum, and mean of the array. This does **not** require writing a loop. In the code cell below, type `x.m<TAB>`, to find built-in operations for common array statistics like this"
     ]
    },
    {
     "cell_type": "code",
     "collapsed": false,
     "input": [
      "#your code here\n",
      "print \"Maximum of x is \", x.max()\n",
      "print \"Minimum of x is \", x.min()\n",
      "print \"Mean of x is \", x.mean()\n"
     ],
     "language": "python",
     "metadata": {},
     "outputs": [
      {
       "output_type": "stream",
       "stream": "stdout",
       "text": [
        "Maximum of x is  1.99875519616\n",
        "Minimum of x is  1.04685023288\n",
        "Mean of x is  1.57103816622\n"
       ]
      }
     ],
     "prompt_number": 9
    },
    {
     "cell_type": "markdown",
     "metadata": {},
     "source": [
      "Call the `x.max` function again, but use the `axis` keyword to print the maximum of each row in x."
     ]
    },
    {
     "cell_type": "code",
     "collapsed": false,
     "input": [
      "#your code here\n",
      "print \"Maximum of each row of x is \", x.max(axis=1)"
     ],
     "language": "python",
     "metadata": {},
     "outputs": [
      {
       "output_type": "stream",
       "stream": "stdout",
       "text": [
        "Maximum of each row of x is  [ 1.58194735  1.9987552   1.96257721]\n"
       ]
      }
     ],
     "prompt_number": 10
    },
    {
     "cell_type": "markdown",
     "metadata": {},
     "source": [
      "Here's a way to quickly simulate 500 coin \"fair\" coin tosses (where the probabily of getting Heads is 50%, or 0.5)"
     ]
    },
    {
     "cell_type": "code",
     "collapsed": false,
     "input": [
      "x = np.random.binomial(500, .5)\n",
      "print \"number of heads:\", x"
     ],
     "language": "python",
     "metadata": {},
     "outputs": [
      {
       "output_type": "stream",
       "stream": "stdout",
       "text": [
        "number of heads: 273\n"
       ]
      }
     ],
     "prompt_number": 20
    },
    {
     "cell_type": "markdown",
     "metadata": {},
     "source": [
      "Repeat this simulation 500 times, and use the [plt.hist() function](http://matplotlib.org/api/pyplot_api.html#matplotlib.pyplot.hist) to plot a histogram of the number of Heads (1s) in each simulation"
     ]
    },
    {
     "cell_type": "code",
     "collapsed": false,
     "input": [
      "#your code here\n",
      "heads = np.random.binomial(500, 0.5, 500)  # n=500, p=0.5, repeat simulation 500 times\n",
      "h = plt.hist(heads, bins=20)  # assign hist to a variable to suppress extra output\n"
     ],
     "language": "python",
     "metadata": {},
     "outputs": [
      {
       "metadata": {},
       "output_type": "display_data",
       "png": "[encoded data removed]",
       "text": [
        "<matplotlib.figure.Figure at 0x10742cf90>"
       ]
      }
     ],
     "prompt_number": 26
    },
    {
     "cell_type": "markdown",
     "metadata": {},
     "source": [
      "## The Monty Hall Problem\n",
      "\n",
      "\n",
      "Here's a fun and perhaps surprising statistical riddle, and a good way to get some practice writing python functions\n",
      "\n",
      "In a gameshow, contestants try to guess which of 3 closed doors contain a cash prize (goats are behind the other two doors). Of course, the odds of choosing the correct door are 1 in 3. As a twist, the host of the show occasionally opens a door after a contestant makes his or her choice. This door is always one of the two the contestant did not pick, and is also always one of the goat doors (note that it is always possible to do this, since there are two goat doors). At this point, the contestant has the option of keeping his or her original choice, or swtiching to the other unopened door. The question is: is there any benefit to switching doors? The answer surprises many people who haven't heard the question before.\n",
      "\n",
      "We can answer the problem by running simulations in Python. We'll do it in several parts.\n",
      "\n",
      "First, write a function called `simulate_prizedoor`. This function will simulate the location of the prize in many games -- see the detailed specification below:"
     ]
    },
    {
     "cell_type": "code",
     "collapsed": false,
     "input": [
      "\"\"\"\n",
      "Function\n",
      "--------\n",
      "simulate_prizedoor\n",
      "\n",
      "Generate a random array of 0s, 1s, and 2s, representing\n",
      "hiding a prize between door 0, door 1, and door 2\n",
      "\n",
      "Parameters\n",
      "----------\n",
      "nsim : int\n",
      "    The number of simulations to run\n",
      "\n",
      "Returns\n",
      "-------\n",
      "sims : array\n",
      "    Random array of 0s, 1s, and 2s\n",
      "\n",
      "Example\n",
      "-------\n",
      ">>> print simulate_prizedoor(3)\n",
      "array([0, 0, 2])\n",
      "\"\"\"\n",
      "def simulate_prizedoor(nsim):\n",
      "    #choose a random number between [0,3) as many times as needed\n",
      "    answer = np.random.randint(3, size=nsim)\n",
      "    return answer\n",
      "\n",
      "# test function\n",
      "simulate_prizedoor(3)"
     ],
     "language": "python",
     "metadata": {},
     "outputs": [
      {
       "metadata": {},
       "output_type": "pyout",
       "prompt_number": 34,
       "text": [
        "array([1, 2, 0])"
       ]
      }
     ],
     "prompt_number": 34
    },
    {
     "cell_type": "markdown",
     "metadata": {},
     "source": [
      "Next, write a function that simulates the contestant's guesses for `nsim` simulations. Call this function `simulate_guess`. The specs:"
     ]
    },
    {
     "cell_type": "code",
     "collapsed": false,
     "input": [
      "\"\"\"\n",
      "Function\n",
      "--------\n",
      "simulate_guess\n",
      "\n",
      "Return any strategy for guessing which door a prize is behind. This\n",
      "could be a random strategy, one that always guesses 2, whatever.\n",
      "\n",
      "Parameters\n",
      "----------\n",
      "nsim : int\n",
      "    The number of simulations to generate guesses for\n",
      "\n",
      "Returns\n",
      "-------\n",
      "guesses : array\n",
      "    An array of guesses. Each guess is a 0, 1, or 2\n",
      "\n",
      "Example\n",
      "-------\n",
      ">>> print simulate_guess(5)\n",
      "array([0, 0, 0, 0, 0])\n",
      "\"\"\"\n",
      "#your code here\n",
      "def simulate_guess(nsim):\n",
      "    #this function is exactly the same as simulate_prizedoor... not sure why we re-wrote it\n",
      "    answer = np.random.randint(3, size=nsim)\n",
      "    return answer\n",
      "\n",
      "simulate_guess(5)"
     ],
     "language": "python",
     "metadata": {},
     "outputs": [
      {
       "metadata": {},
       "output_type": "pyout",
       "prompt_number": 33,
       "text": [
        "array([2, 0, 1, 1, 2])"
       ]
      }
     ],
     "prompt_number": 33
    },
    {
     "cell_type": "markdown",
     "metadata": {},
     "source": [
      "Next, write a function, `goat_door`, to simulate randomly revealing one of the goat doors that a contestant didn't pick."
     ]
    },
    {
     "cell_type": "code",
     "collapsed": false,
     "input": [
      "\"\"\"\n",
      "Function\n",
      "--------\n",
      "goat_door\n",
      "\n",
      "Simulate the opening of a \"goat door\" that doesn't contain the prize,\n",
      "and is different from the contestants guess\n",
      "\n",
      "Parameters\n",
      "----------\n",
      "prizedoors : array\n",
      "    The door that the prize is behind in each simulation\n",
      "guesses : array\n",
      "    THe door that the contestant guessed in each simulation\n",
      "\n",
      "Returns\n",
      "-------\n",
      "goats : array\n",
      "    The goat door that is opened for each simulation. Each item is 0, 1, or 2, and is different\n",
      "    from both prizedoors and guesses\n",
      "\n",
      "Examples\n",
      "--------\n",
      ">>> print goat_door(np.array([0, 1, 2]), np.array([1, 1, 1]))\n",
      ">>> array([2, 2, 0])\n",
      "\"\"\"\n",
      "#your code here\n",
      "def goat_door(prizedoors, guesses):\n",
      "    goat = np.zeros(len(prizedoors))  #initialize holder array\n",
      "    doors = np.array([0,1,2])  #list of door choices\n",
      "    for i in range(len(prizedoors)):\n",
      "        if prizedoors[i]==guesses[i]:  #if they guess correctly, only remove one door from choices\n",
      "            remaining = np.delete(doors, prizedoors[i])\n",
      "        else:  #if they guessed a goat, only one remaining door has a goat\n",
      "            remaining = np.delete(doors, [prizedoors[i], guesses[i]])\n",
      "        goat[i] = np.random.choice(remaining)  #open a goat door\n",
      "    answer = goat\n",
      "    return answer\n",
      "\n",
      "# test whether function works as expected\n",
      "prizedoors = simulate_prizedoor(5)\n",
      "print prizedoors\n",
      "guesses = simulate_guess(5)\n",
      "print guesses\n",
      "goat_door(prizedoors, guesses)\n"
     ],
     "language": "python",
     "metadata": {},
     "outputs": [
      {
       "output_type": "stream",
       "stream": "stdout",
       "text": [
        "[0 0 0 2 1]\n",
        "[0 2 2 2 1]\n"
       ]
      },
      {
       "metadata": {},
       "output_type": "pyout",
       "prompt_number": 88,
       "text": [
        "array([ 2.,  1.,  1.,  0.,  0.])"
       ]
      }
     ],
     "prompt_number": 88
    },
    {
     "cell_type": "markdown",
     "metadata": {},
     "source": [
      "Write a function, `switch_guess`, that represents the strategy of always switching a guess after the goat door is opened."
     ]
    },
    {
     "cell_type": "code",
     "collapsed": false,
     "input": [
      "\"\"\"\n",
      "Function\n",
      "--------\n",
      "switch_guess\n",
      "\n",
      "The strategy that always switches a guess after the goat door is opened\n",
      "\n",
      "Parameters\n",
      "----------\n",
      "guesses : array\n",
      "     Array of original guesses, for each simulation\n",
      "goatdoors : array\n",
      "     Array of revealed goat doors for each simulation\n",
      "\n",
      "Returns\n",
      "-------\n",
      "The new door after switching. Should be different from both guesses and goatdoors\n",
      "\n",
      "Examples\n",
      "--------\n",
      ">>> print switch_guess(np.array([0, 1, 2]), np.array([1, 2, 1]))\n",
      ">>> array([2, 0, 0])\n",
      "\"\"\"\n",
      "#your code here\n",
      "def switch_guess(guesses, goatdoors):\n",
      "    door_choice = np.zeros(len(guesses)) #initialize a holder\n",
      "    doors = np.array([0,1,2])  #list of door options\n",
      "    for i in range(len(guesses)):\n",
      "        door_choice[i] = np.delete(doors, [guesses[i], goatdoors[i]]) #pick the door that was not guessed or opened\n",
      "    answer = door_choice\n",
      "    return answer\n",
      "#test that function works\n",
      "print switch_guess(np.array([0, 1, 2]), np.array([1, 2, 1]))"
     ],
     "language": "python",
     "metadata": {},
     "outputs": [
      {
       "output_type": "stream",
       "stream": "stdout",
       "text": [
        "[ 2.  0.  0.]\n"
       ]
      }
     ],
     "prompt_number": 87
    },
    {
     "cell_type": "markdown",
     "metadata": {},
     "source": [
      "Last function: write a `win_percentage` function that takes an array of `guesses` and `prizedoors`, and returns the percent of correct guesses"
     ]
    },
    {
     "cell_type": "code",
     "collapsed": false,
     "input": [
      "\"\"\"\n",
      "Function\n",
      "--------\n",
      "win_percentage\n",
      "\n",
      "Calculate the percent of times that a simulation of guesses is correct\n",
      "\n",
      "Parameters\n",
      "-----------\n",
      "guesses : array\n",
      "    Guesses for each simulation\n",
      "prizedoors : array\n",
      "    Location of prize for each simulation\n",
      "\n",
      "Returns\n",
      "--------\n",
      "percentage : number between 0 and 100\n",
      "    The win percentage\n",
      "\n",
      "Examples\n",
      "---------\n",
      ">>> print win_percentage(np.array([0, 1, 2]), np.array([0, 0, 0]))\n",
      "33.333\n",
      "\"\"\"\n",
      "#your code here\n",
      "def win_percentage(guesses, prizedoors):\n",
      "    test_guess = np.equal(guesses, prizedoors) #generate boolean array of correct guesses\n",
      "    #sum correct guesses, divide by total guesses and multiply by 100 to get a percentage\n",
      "    answer = 100.0*test_guess.sum()/len(guesses) #be sure to make 100 a float\n",
      "    return answer\n",
      "\n",
      "#test function\n",
      "print win_percentage(np.array([0, 1, 2]), np.array([0, 0, 0]))"
     ],
     "language": "python",
     "metadata": {},
     "outputs": [
      {
       "output_type": "stream",
       "stream": "stdout",
       "text": [
        "33.3333333333\n"
       ]
      }
     ],
     "prompt_number": 94
    },
    {
     "cell_type": "markdown",
     "metadata": {},
     "source": [
      "Now, put it together. Simulate 10000 games where contestant keeps his original guess, and 10000 games where the contestant switches his door after a  goat door is revealed. Compute the percentage of time the contestant wins under either strategy. Is one strategy better than the other?"
     ]
    },
    {
     "cell_type": "code",
     "collapsed": false,
     "input": [
      "# first simulate prize locations and initial guesses\n",
      "nsim = 10000  #10,000 iterations\n",
      "prizedoors = simulate_prizedoor(nsim)\n",
      "initial_guesses = simulate_guess(nsim)\n",
      "\n",
      "# now open goat doors and make a new guess\n",
      "goatdoors =  goat_door(prizedoors, initial_guesses)\n",
      "new_guesses = switch_guess(initial_guesses, goatdoors)\n",
      "\n",
      "# finally, calculate win percentages for each strategy\n",
      "keep_initial = win_percentage(initial_guesses, prizedoors)\n",
      "switch_to_new = win_percentage(new_guesses, prizedoors)\n",
      "\n",
      "print \"Win percentage with initial guess is \", keep_initial\n",
      "print \"Win percentage with changing guess is \", switch_to_new\n",
      "\n",
      "#initial should be 1/3 = 33.33%\n",
      "#new guess should be 2/3 = 66.66%\n",
      "\n",
      "test_bool = np.equal(np.array([1, 1, 0, 1, 1]), np.array([1, 0, 1, 1, 1]))\n"
     ],
     "language": "python",
     "metadata": {},
     "outputs": [
      {
       "output_type": "stream",
       "stream": "stdout",
       "text": [
        "Win percentage with initial guess is  33.99\n",
        "Win percentage with changing guess is  66.01\n"
       ]
      }
     ],
     "prompt_number": 97
    },
    {
     "cell_type": "markdown",
     "metadata": {},
     "source": [
      "Many people find this answer counter-intuitive (famously, PhD mathematicians have incorrectly claimed the result must be wrong. Clearly, none of them knew Python). \n",
      "\n",
      "One of the best ways to build intuition about why opening a Goat door affects the odds is to re-run the experiment with 100 doors and one prize. If the game show host opens 98 goat doors after you make your initial selection, would you want to keep your first pick or switch? Can you generalize your simulation code to handle the case of `n` doors?"
     ]
    },
    {
     "cell_type": "code",
     "collapsed": false,
     "input": [],
     "language": "python",
     "metadata": {},
     "outputs": []
    }
   ],
   "metadata": {}
  }
 ]
}